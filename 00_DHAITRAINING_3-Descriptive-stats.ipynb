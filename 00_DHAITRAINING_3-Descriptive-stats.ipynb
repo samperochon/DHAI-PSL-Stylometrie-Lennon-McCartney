{
 "cells": [
  {
   "cell_type": "markdown",
   "metadata": {},
   "source": [
    "## Statistiques descriptives :\n",
    "\n",
    "Commençons tout d’abord par proposer quelques statistiques descriptives sur notrecorpus. Même si nous réaliserons des normalisations sur la table de fréquences afin de réduire la différence entre ces longueurs de textes, il demeure important de voir si ces textes ne varient pas trop.\n",
    "\n",
    "Nous savons actuellement que Lennon et McCartney ont écrits 60 chansons chacun (= 120) et 60 chansons sont affichées comme étant le fruit de leur collaboration d'écriture. \n",
    "\n",
    "**Objectifs** :\n",
    "\n",
    "   - Dénombrement du nombre de mots par chanson et comparaison de la longueur des textes\n",
    "   - Analyse des principaux indices : moyenne, max, min, écart-type, etc.\n",
    "   - Visualisations.\n",
    "   - Boxplot pour comparaison entre auteurs et écriture collaborative.\n",
    "   - Retour réflexif.\n",
    "   - Exploration d'autres pistes.\n",
    "---"
   ]
  },
  {
   "cell_type": "code",
   "execution_count": 2,
   "metadata": {},
   "outputs": [
    {
     "data": {
      "text/html": [
       "<div>\n",
       "<style scoped>\n",
       "    .dataframe tbody tr th:only-of-type {\n",
       "        vertical-align: middle;\n",
       "    }\n",
       "\n",
       "    .dataframe tbody tr th {\n",
       "        vertical-align: top;\n",
       "    }\n",
       "\n",
       "    .dataframe thead th {\n",
       "        text-align: right;\n",
       "    }\n",
       "</style>\n",
       "<table border=\"1\" class=\"dataframe\">\n",
       "  <thead>\n",
       "    <tr style=\"text-align: right;\">\n",
       "      <th></th>\n",
       "      <th>Song</th>\n",
       "      <th>Album Debut</th>\n",
       "      <th>Songwriter(s)</th>\n",
       "      <th>Lead Vocal(s)</th>\n",
       "      <th>Year</th>\n",
       "      <th>Lyrics</th>\n",
       "      <th>words</th>\n",
       "      <th>lemma</th>\n",
       "      <th>pos</th>\n",
       "      <th>3grams_pos</th>\n",
       "    </tr>\n",
       "  </thead>\n",
       "  <tbody>\n",
       "    <tr>\n",
       "      <th>0</th>\n",
       "      <td>\"Across the Universe\"</td>\n",
       "      <td>Let It Be</td>\n",
       "      <td>Lennon</td>\n",
       "      <td>Lennon</td>\n",
       "      <td>1968</td>\n",
       "      <td>Words are flowing out like endless rain into a...</td>\n",
       "      <td>Words</td>\n",
       "      <td>['word']</td>\n",
       "      <td>['NOUN']</td>\n",
       "      <td>(['NOUN'], ['AUX'], ['VERB'])</td>\n",
       "    </tr>\n",
       "    <tr>\n",
       "      <th>1</th>\n",
       "      <td>\"Across the Universe\"</td>\n",
       "      <td>Let It Be</td>\n",
       "      <td>Lennon</td>\n",
       "      <td>Lennon</td>\n",
       "      <td>1968</td>\n",
       "      <td>Words are flowing out like endless rain into a...</td>\n",
       "      <td>are</td>\n",
       "      <td>['be']</td>\n",
       "      <td>['AUX']</td>\n",
       "      <td>(['AUX'], ['VERB'], ['ADP'])</td>\n",
       "    </tr>\n",
       "    <tr>\n",
       "      <th>2</th>\n",
       "      <td>\"Across the Universe\"</td>\n",
       "      <td>Let It Be</td>\n",
       "      <td>Lennon</td>\n",
       "      <td>Lennon</td>\n",
       "      <td>1968</td>\n",
       "      <td>Words are flowing out like endless rain into a...</td>\n",
       "      <td>flowing</td>\n",
       "      <td>['flow']</td>\n",
       "      <td>['VERB']</td>\n",
       "      <td>(['VERB'], ['ADP'], ['SCONJ'])</td>\n",
       "    </tr>\n",
       "    <tr>\n",
       "      <th>3</th>\n",
       "      <td>\"Across the Universe\"</td>\n",
       "      <td>Let It Be</td>\n",
       "      <td>Lennon</td>\n",
       "      <td>Lennon</td>\n",
       "      <td>1968</td>\n",
       "      <td>Words are flowing out like endless rain into a...</td>\n",
       "      <td>out</td>\n",
       "      <td>['out']</td>\n",
       "      <td>['ADP']</td>\n",
       "      <td>(['ADP'], ['SCONJ'], ['ADJ'])</td>\n",
       "    </tr>\n",
       "    <tr>\n",
       "      <th>4</th>\n",
       "      <td>\"Across the Universe\"</td>\n",
       "      <td>Let It Be</td>\n",
       "      <td>Lennon</td>\n",
       "      <td>Lennon</td>\n",
       "      <td>1968</td>\n",
       "      <td>Words are flowing out like endless rain into a...</td>\n",
       "      <td>like</td>\n",
       "      <td>['like']</td>\n",
       "      <td>['SCONJ']</td>\n",
       "      <td>(['SCONJ'], ['ADJ'], ['NOUN'])</td>\n",
       "    </tr>\n",
       "  </tbody>\n",
       "</table>\n",
       "</div>"
      ],
      "text/plain": [
       "                    Song Album Debut Songwriter(s) Lead Vocal(s)  Year  \\\n",
       "0  \"Across the Universe\"   Let It Be        Lennon        Lennon  1968   \n",
       "1  \"Across the Universe\"   Let It Be        Lennon        Lennon  1968   \n",
       "2  \"Across the Universe\"   Let It Be        Lennon        Lennon  1968   \n",
       "3  \"Across the Universe\"   Let It Be        Lennon        Lennon  1968   \n",
       "4  \"Across the Universe\"   Let It Be        Lennon        Lennon  1968   \n",
       "\n",
       "                                              Lyrics    words     lemma  \\\n",
       "0  Words are flowing out like endless rain into a...    Words  ['word']   \n",
       "1  Words are flowing out like endless rain into a...      are    ['be']   \n",
       "2  Words are flowing out like endless rain into a...  flowing  ['flow']   \n",
       "3  Words are flowing out like endless rain into a...      out   ['out']   \n",
       "4  Words are flowing out like endless rain into a...     like  ['like']   \n",
       "\n",
       "         pos                      3grams_pos  \n",
       "0   ['NOUN']   (['NOUN'], ['AUX'], ['VERB'])  \n",
       "1    ['AUX']    (['AUX'], ['VERB'], ['ADP'])  \n",
       "2   ['VERB']  (['VERB'], ['ADP'], ['SCONJ'])  \n",
       "3    ['ADP']   (['ADP'], ['SCONJ'], ['ADJ'])  \n",
       "4  ['SCONJ']  (['SCONJ'], ['ADJ'], ['NOUN'])  "
      ]
     },
     "execution_count": 2,
     "metadata": {},
     "output_type": "execute_result"
    }
   ],
   "source": [
    "# Librairie pandas (manipulation de données csv, dataframe, etc.)\n",
    "import pandas as pd\n",
    "\n",
    "# Import et lecture du corpus :\n",
    "corpus = pd.read_csv('./data/corpus_tokmorph_ajout_solo.csv')\n",
    "del corpus['Unnamed: 0']\n",
    "corpus.head()"
   ]
  },
  {
   "cell_type": "code",
   "execution_count": 3,
   "metadata": {},
   "outputs": [
    {
     "data": {
      "text/html": [
       "<div>\n",
       "<style scoped>\n",
       "    .dataframe tbody tr th:only-of-type {\n",
       "        vertical-align: middle;\n",
       "    }\n",
       "\n",
       "    .dataframe tbody tr th {\n",
       "        vertical-align: top;\n",
       "    }\n",
       "\n",
       "    .dataframe thead th {\n",
       "        text-align: right;\n",
       "    }\n",
       "</style>\n",
       "<table border=\"1\" class=\"dataframe\">\n",
       "  <thead>\n",
       "    <tr style=\"text-align: right;\">\n",
       "      <th></th>\n",
       "      <th>Song</th>\n",
       "      <th>nb_words</th>\n",
       "    </tr>\n",
       "  </thead>\n",
       "  <tbody>\n",
       "    <tr>\n",
       "      <th>0</th>\n",
       "      <td>\"A Day in the Life\"</td>\n",
       "      <td>226</td>\n",
       "    </tr>\n",
       "    <tr>\n",
       "      <th>1</th>\n",
       "      <td>\"A Hard Day's Night\"</td>\n",
       "      <td>228</td>\n",
       "    </tr>\n",
       "    <tr>\n",
       "      <th>2</th>\n",
       "      <td>\"Across the Universe\"</td>\n",
       "      <td>250</td>\n",
       "    </tr>\n",
       "    <tr>\n",
       "      <th>3</th>\n",
       "      <td>\"All I've Got to Do\"</td>\n",
       "      <td>212</td>\n",
       "    </tr>\n",
       "    <tr>\n",
       "      <th>4</th>\n",
       "      <td>\"All My Loving\"</td>\n",
       "      <td>175</td>\n",
       "    </tr>\n",
       "    <tr>\n",
       "      <th>...</th>\n",
       "      <td>...</td>\n",
       "      <td>...</td>\n",
       "    </tr>\n",
       "    <tr>\n",
       "      <th>227</th>\n",
       "      <td>Too Many People</td>\n",
       "      <td>203</td>\n",
       "    </tr>\n",
       "    <tr>\n",
       "      <th>228</th>\n",
       "      <td>Uncle Albert / Admiral Halsey</td>\n",
       "      <td>343</td>\n",
       "    </tr>\n",
       "    <tr>\n",
       "      <th>229</th>\n",
       "      <td>We're All Water</td>\n",
       "      <td>243</td>\n",
       "    </tr>\n",
       "    <tr>\n",
       "      <th>230</th>\n",
       "      <td>Woman Is The Nigger Of The World</td>\n",
       "      <td>292</td>\n",
       "    </tr>\n",
       "    <tr>\n",
       "      <th>231</th>\n",
       "      <td>You Are Here</td>\n",
       "      <td>114</td>\n",
       "    </tr>\n",
       "  </tbody>\n",
       "</table>\n",
       "<p>232 rows × 2 columns</p>\n",
       "</div>"
      ],
      "text/plain": [
       "                                 Song  nb_words\n",
       "0                 \"A Day in the Life\"       226\n",
       "1                \"A Hard Day's Night\"       228\n",
       "2               \"Across the Universe\"       250\n",
       "3                \"All I've Got to Do\"       212\n",
       "4                     \"All My Loving\"       175\n",
       "..                                ...       ...\n",
       "227                   Too Many People       203\n",
       "228     Uncle Albert / Admiral Halsey       343\n",
       "229                   We're All Water       243\n",
       "230  Woman Is The Nigger Of The World       292\n",
       "231                      You Are Here       114\n",
       "\n",
       "[232 rows x 2 columns]"
      ]
     },
     "execution_count": 3,
     "metadata": {},
     "output_type": "execute_result"
    }
   ],
   "source": [
    "# Sélection des colonnes 'Song' et 'words' :\n",
    "corpus_by_song = corpus[['Song', 'words']]\n",
    "\n",
    "# Dénombrement :\n",
    "count_by_song = corpus_by_song.groupby('Song').count()\n",
    "\n",
    "# Rename \n",
    "\n",
    "count_by_song.columns = ['nb_words']\n",
    "\n",
    "# & song into variable :\n",
    "\n",
    "count_by_song = count_by_song.reset_index(level=['Song'])\n",
    "\n",
    "count_by_song"
   ]
  },
  {
   "cell_type": "code",
   "execution_count": 4,
   "metadata": {},
   "outputs": [
    {
     "data": {
      "text/html": [
       "<div>\n",
       "<style scoped>\n",
       "    .dataframe tbody tr th:only-of-type {\n",
       "        vertical-align: middle;\n",
       "    }\n",
       "\n",
       "    .dataframe tbody tr th {\n",
       "        vertical-align: top;\n",
       "    }\n",
       "\n",
       "    .dataframe thead th {\n",
       "        text-align: right;\n",
       "    }\n",
       "</style>\n",
       "<table border=\"1\" class=\"dataframe\">\n",
       "  <thead>\n",
       "    <tr style=\"text-align: right;\">\n",
       "      <th></th>\n",
       "      <th>Song</th>\n",
       "      <th>Songwriter(s)</th>\n",
       "      <th>nb_words</th>\n",
       "    </tr>\n",
       "  </thead>\n",
       "  <tbody>\n",
       "    <tr>\n",
       "      <th>0</th>\n",
       "      <td>\"A Day in the Life\"</td>\n",
       "      <td>Lennon-McCartney</td>\n",
       "      <td>226</td>\n",
       "    </tr>\n",
       "    <tr>\n",
       "      <th>1</th>\n",
       "      <td>\"A Hard Day's Night\"</td>\n",
       "      <td>Lennon-McCartney</td>\n",
       "      <td>228</td>\n",
       "    </tr>\n",
       "    <tr>\n",
       "      <th>2</th>\n",
       "      <td>\"Across the Universe\"</td>\n",
       "      <td>Lennon</td>\n",
       "      <td>250</td>\n",
       "    </tr>\n",
       "    <tr>\n",
       "      <th>3</th>\n",
       "      <td>\"All I've Got to Do\"</td>\n",
       "      <td>Lennon</td>\n",
       "      <td>212</td>\n",
       "    </tr>\n",
       "    <tr>\n",
       "      <th>4</th>\n",
       "      <td>\"All My Loving\"</td>\n",
       "      <td>McCartney</td>\n",
       "      <td>175</td>\n",
       "    </tr>\n",
       "    <tr>\n",
       "      <th>...</th>\n",
       "      <td>...</td>\n",
       "      <td>...</td>\n",
       "      <td>...</td>\n",
       "    </tr>\n",
       "    <tr>\n",
       "      <th>174</th>\n",
       "      <td>\"You Won't See Me\"</td>\n",
       "      <td>McCartney</td>\n",
       "      <td>243</td>\n",
       "    </tr>\n",
       "    <tr>\n",
       "      <th>175</th>\n",
       "      <td>\"You'll Be Mine\"</td>\n",
       "      <td>Lennon-McCartney</td>\n",
       "      <td>117</td>\n",
       "    </tr>\n",
       "    <tr>\n",
       "      <th>176</th>\n",
       "      <td>\"You're Going to Lose That Girl\"</td>\n",
       "      <td>Lennon</td>\n",
       "      <td>247</td>\n",
       "    </tr>\n",
       "    <tr>\n",
       "      <th>177</th>\n",
       "      <td>\"You've Got to Hide Your Love Away\"</td>\n",
       "      <td>Lennon</td>\n",
       "      <td>125</td>\n",
       "    </tr>\n",
       "    <tr>\n",
       "      <th>178</th>\n",
       "      <td>\"Your Mother Should Know\"</td>\n",
       "      <td>McCartney</td>\n",
       "      <td>206</td>\n",
       "    </tr>\n",
       "  </tbody>\n",
       "</table>\n",
       "<p>179 rows × 3 columns</p>\n",
       "</div>"
      ],
      "text/plain": [
       "                                    Song     Songwriter(s)  nb_words\n",
       "0                    \"A Day in the Life\"  Lennon-McCartney       226\n",
       "1                   \"A Hard Day's Night\"  Lennon-McCartney       228\n",
       "2                  \"Across the Universe\"            Lennon       250\n",
       "3                   \"All I've Got to Do\"            Lennon       212\n",
       "4                        \"All My Loving\"         McCartney       175\n",
       "..                                   ...               ...       ...\n",
       "174                   \"You Won't See Me\"         McCartney       243\n",
       "175                     \"You'll Be Mine\"  Lennon-McCartney       117\n",
       "176     \"You're Going to Lose That Girl\"            Lennon       247\n",
       "177  \"You've Got to Hide Your Love Away\"            Lennon       125\n",
       "178            \"Your Mother Should Know\"         McCartney       206\n",
       "\n",
       "[179 rows x 3 columns]"
      ]
     },
     "execution_count": 4,
     "metadata": {},
     "output_type": "execute_result"
    }
   ],
   "source": [
    "# Ajout de la colonne Songwriter(s) sur la base de corpus_clean_select :\n",
    "# => merge\n",
    "\n",
    "corpus_clean_select = pd.read_csv('./data/corpus_nettoye.csv', index_col=None)\n",
    "\n",
    "df = pd.merge(count_by_song, corpus_clean_select, on=['Song'])\n",
    "\n",
    "# Sélection des colonnes qui nous intéressent :\n",
    "\n",
    "count_by_song = df[['Song', 'Songwriter(s)', 'nb_words']]\n",
    "\n",
    "count_by_song"
   ]
  },
  {
   "cell_type": "code",
   "execution_count": 5,
   "metadata": {},
   "outputs": [
    {
     "data": {
      "text/html": [
       "<div>\n",
       "<style scoped>\n",
       "    .dataframe tbody tr th:only-of-type {\n",
       "        vertical-align: middle;\n",
       "    }\n",
       "\n",
       "    .dataframe tbody tr th {\n",
       "        vertical-align: top;\n",
       "    }\n",
       "\n",
       "    .dataframe thead th {\n",
       "        text-align: right;\n",
       "    }\n",
       "</style>\n",
       "<table border=\"1\" class=\"dataframe\">\n",
       "  <thead>\n",
       "    <tr style=\"text-align: right;\">\n",
       "      <th></th>\n",
       "      <th>Song</th>\n",
       "      <th>Songwriter(s)</th>\n",
       "      <th>nb_words</th>\n",
       "    </tr>\n",
       "  </thead>\n",
       "  <tbody>\n",
       "    <tr>\n",
       "      <th>137</th>\n",
       "      <td>\"Sun King\"</td>\n",
       "      <td>Lennon</td>\n",
       "      <td>43</td>\n",
       "    </tr>\n",
       "    <tr>\n",
       "      <th>145</th>\n",
       "      <td>\"The End\"</td>\n",
       "      <td>McCartney</td>\n",
       "      <td>30</td>\n",
       "    </tr>\n",
       "    <tr>\n",
       "      <th>164</th>\n",
       "      <td>\"Wild Honey Pie\"</td>\n",
       "      <td>McCartney</td>\n",
       "      <td>22</td>\n",
       "    </tr>\n",
       "  </tbody>\n",
       "</table>\n",
       "</div>"
      ],
      "text/plain": [
       "                 Song Songwriter(s)  nb_words\n",
       "137        \"Sun King\"        Lennon        43\n",
       "145         \"The End\"     McCartney        30\n",
       "164  \"Wild Honey Pie\"     McCartney        22"
      ]
     },
     "execution_count": 5,
     "metadata": {},
     "output_type": "execute_result"
    }
   ],
   "source": [
    "count_by_song[count_by_song['nb_words']<50]"
   ]
  },
  {
   "cell_type": "code",
   "execution_count": 6,
   "metadata": {},
   "outputs": [
    {
     "data": {
      "text/html": [
       "<div>\n",
       "<style scoped>\n",
       "    .dataframe tbody tr th:only-of-type {\n",
       "        vertical-align: middle;\n",
       "    }\n",
       "\n",
       "    .dataframe tbody tr th {\n",
       "        vertical-align: top;\n",
       "    }\n",
       "\n",
       "    .dataframe thead th {\n",
       "        text-align: right;\n",
       "    }\n",
       "</style>\n",
       "<table border=\"1\" class=\"dataframe\">\n",
       "  <thead>\n",
       "    <tr style=\"text-align: right;\">\n",
       "      <th></th>\n",
       "      <th>nb_words</th>\n",
       "    </tr>\n",
       "  </thead>\n",
       "  <tbody>\n",
       "    <tr>\n",
       "      <th>count</th>\n",
       "      <td>179.000000</td>\n",
       "    </tr>\n",
       "    <tr>\n",
       "      <th>mean</th>\n",
       "      <td>201.558659</td>\n",
       "    </tr>\n",
       "    <tr>\n",
       "      <th>std</th>\n",
       "      <td>74.195617</td>\n",
       "    </tr>\n",
       "    <tr>\n",
       "      <th>min</th>\n",
       "      <td>22.000000</td>\n",
       "    </tr>\n",
       "    <tr>\n",
       "      <th>25%</th>\n",
       "      <td>155.000000</td>\n",
       "    </tr>\n",
       "    <tr>\n",
       "      <th>50%</th>\n",
       "      <td>202.000000</td>\n",
       "    </tr>\n",
       "    <tr>\n",
       "      <th>75%</th>\n",
       "      <td>242.500000</td>\n",
       "    </tr>\n",
       "    <tr>\n",
       "      <th>max</th>\n",
       "      <td>445.000000</td>\n",
       "    </tr>\n",
       "  </tbody>\n",
       "</table>\n",
       "</div>"
      ],
      "text/plain": [
       "         nb_words\n",
       "count  179.000000\n",
       "mean   201.558659\n",
       "std     74.195617\n",
       "min     22.000000\n",
       "25%    155.000000\n",
       "50%    202.000000\n",
       "75%    242.500000\n",
       "max    445.000000"
      ]
     },
     "execution_count": 6,
     "metadata": {},
     "output_type": "execute_result"
    }
   ],
   "source": [
    "# Moyenne / médiane générale (graph)\n",
    "# Moyenne / médiane par auteur (graph):\n",
    "# Boxplot comparatif.\n",
    "# ==> Matrice de corrélation auteur / longueur ?\n",
    "\n",
    "import matplotlib.pyplot as plt\n",
    "\n",
    "count_by_song.describe()"
   ]
  },
  {
   "cell_type": "code",
   "execution_count": 7,
   "metadata": {},
   "outputs": [
    {
     "data": {
      "text/html": [
       "<div>\n",
       "<style scoped>\n",
       "    .dataframe tbody tr th:only-of-type {\n",
       "        vertical-align: middle;\n",
       "    }\n",
       "\n",
       "    .dataframe tbody tr th {\n",
       "        vertical-align: top;\n",
       "    }\n",
       "\n",
       "    .dataframe thead th {\n",
       "        text-align: right;\n",
       "    }\n",
       "</style>\n",
       "<table border=\"1\" class=\"dataframe\">\n",
       "  <thead>\n",
       "    <tr style=\"text-align: right;\">\n",
       "      <th></th>\n",
       "      <th>Song</th>\n",
       "      <th>Songwriter(s)</th>\n",
       "      <th>nb_words</th>\n",
       "    </tr>\n",
       "  </thead>\n",
       "  <tbody>\n",
       "    <tr>\n",
       "      <th>164</th>\n",
       "      <td>\"Wild Honey Pie\"</td>\n",
       "      <td>McCartney</td>\n",
       "      <td>22</td>\n",
       "    </tr>\n",
       "  </tbody>\n",
       "</table>\n",
       "</div>"
      ],
      "text/plain": [
       "                 Song Songwriter(s)  nb_words\n",
       "164  \"Wild Honey Pie\"     McCartney        22"
      ]
     },
     "execution_count": 7,
     "metadata": {},
     "output_type": "execute_result"
    }
   ],
   "source": [
    "# min 1 mot ???\n",
    "# count_by_song.loc[(count_by_song['nb_words'] == 1)]\n",
    "\n",
    "# = Cayenne\n",
    "## ==> Besoin de retirer les NaN précédemment : OK.\n",
    "## ==> Retour en arrière : retrait NaN et \\n dans les paroles.\n",
    "\n",
    "# 22 paroles ?\n",
    "\n",
    "count_by_song.loc[(count_by_song['nb_words'] == 22)]\n",
    "\n",
    "# ==> Wild Honey Pie : https://www.youtube.com/watch?v=l-ekNlk5VDM : ok !"
   ]
  },
  {
   "cell_type": "code",
   "execution_count": 8,
   "metadata": {},
   "outputs": [],
   "source": [
    "# Création de trois corpus :\n",
    "\n",
    "corpus_Lennon = count_by_song.loc[(count_by_song['Songwriter(s)'] == \"Lennon\")]\n",
    "corpus_McCartney = count_by_song.loc[(count_by_song['Songwriter(s)'] == \"McCartney\")]\n",
    "corpus_LMC = count_by_song.loc[(count_by_song['Songwriter(s)'] == \"Lennon-McCartney\")]"
   ]
  },
  {
   "cell_type": "code",
   "execution_count": 9,
   "metadata": {},
   "outputs": [
    {
     "data": {
      "text/plain": [
       "Text(221.71452513966483, 18.0, '201.56')"
      ]
     },
     "execution_count": 9,
     "metadata": {},
     "output_type": "execute_result"
    },
    {
     "data": {
      "image/png": "[encoded data removed]",
      "text/plain": [
       "<Figure size 432x288 with 1 Axes>"
      ]
     },
     "metadata": {
      "needs_background": "light"
     },
     "output_type": "display_data"
    }
   ],
   "source": [
    "# Corpus complet :\n",
    "\n",
    "plt.hist(count_by_song[\"nb_words\"], density=False, bins=30)  # density=False would make counts\n",
    "plt.ylabel('n')\n",
    "plt.xlabel('nb_words')\n",
    "plt.title('Corpus complet')\n",
    "# Ajout ligne moyenne et médiane :\n",
    "min_ylim, max_ylim = plt.ylim(0,20)\n",
    "plt.axvline(count_by_song['nb_words'].mean(), color='k', linestyle='dashed', linewidth=1)\n",
    "plt.text(count_by_song['nb_words'].mean()*1.1, max_ylim*0.9, '{:.2f}'.format(count_by_song['nb_words'].mean()))"
   ]
  },
  {
   "cell_type": "code",
   "execution_count": 10,
   "metadata": {},
   "outputs": [
    {
     "data": {
      "text/html": [
       "<div>\n",
       "<style scoped>\n",
       "    .dataframe tbody tr th:only-of-type {\n",
       "        vertical-align: middle;\n",
       "    }\n",
       "\n",
       "    .dataframe tbody tr th {\n",
       "        vertical-align: top;\n",
       "    }\n",
       "\n",
       "    .dataframe thead th {\n",
       "        text-align: right;\n",
       "    }\n",
       "</style>\n",
       "<table border=\"1\" class=\"dataframe\">\n",
       "  <thead>\n",
       "    <tr style=\"text-align: right;\">\n",
       "      <th></th>\n",
       "      <th>nb_words</th>\n",
       "    </tr>\n",
       "  </thead>\n",
       "  <tbody>\n",
       "    <tr>\n",
       "      <th>count</th>\n",
       "      <td>60.000000</td>\n",
       "    </tr>\n",
       "    <tr>\n",
       "      <th>mean</th>\n",
       "      <td>201.700000</td>\n",
       "    </tr>\n",
       "    <tr>\n",
       "      <th>std</th>\n",
       "      <td>71.076302</td>\n",
       "    </tr>\n",
       "    <tr>\n",
       "      <th>min</th>\n",
       "      <td>43.000000</td>\n",
       "    </tr>\n",
       "    <tr>\n",
       "      <th>25%</th>\n",
       "      <td>157.750000</td>\n",
       "    </tr>\n",
       "    <tr>\n",
       "      <th>50%</th>\n",
       "      <td>207.000000</td>\n",
       "    </tr>\n",
       "    <tr>\n",
       "      <th>75%</th>\n",
       "      <td>238.250000</td>\n",
       "    </tr>\n",
       "    <tr>\n",
       "      <th>max</th>\n",
       "      <td>364.000000</td>\n",
       "    </tr>\n",
       "  </tbody>\n",
       "</table>\n",
       "</div>"
      ],
      "text/plain": [
       "         nb_words\n",
       "count   60.000000\n",
       "mean   201.700000\n",
       "std     71.076302\n",
       "min     43.000000\n",
       "25%    157.750000\n",
       "50%    207.000000\n",
       "75%    238.250000\n",
       "max    364.000000"
      ]
     },
     "execution_count": 10,
     "metadata": {},
     "output_type": "execute_result"
    }
   ],
   "source": [
    "corpus_Lennon.describe()"
   ]
  },
  {
   "cell_type": "code",
   "execution_count": 11,
   "metadata": {},
   "outputs": [
    {
     "data": {
      "text/plain": [
       "Text(227.70000000000002, 9.0, '207.00')"
      ]
     },
     "execution_count": 11,
     "metadata": {},
     "output_type": "execute_result"
    },
    {
     "data": {
      "image/png": "[encoded data removed]",
      "text/plain": [
       "<Figure size 432x288 with 1 Axes>"
      ]
     },
     "metadata": {
      "needs_background": "light"
     },
     "output_type": "display_data"
    }
   ],
   "source": [
    "# Corpus Lennon : \n",
    "\n",
    "plt.hist(corpus_Lennon[\"nb_words\"], density=False, bins=30, color='#0C9E79')  \n",
    "plt.ylabel('n')\n",
    "plt.xlabel('nb_words')\n",
    "plt.title('Corpus Lennon')\n",
    "# Ajout ligne moyenne et médiane :\n",
    "min_ylim, max_ylim = plt.ylim(0,10) # Même échelle pour comparaison !\n",
    "# plt.axvline(corpus_Lennon['nb_words'].mean(), color='k', linestyle='dashed', linewidth=1)\n",
    "# plt.text(corpus_Lennon['nb_words'].mean()*1.1, max_ylim*0.8, '{:.2f}'.format(corpus_Lennon['nb_words'].mean()))\n",
    "plt.axvline(corpus_Lennon['nb_words'].median(), color='k', linestyle='dashed', linewidth=1)\n",
    "plt.text(corpus_Lennon['nb_words'].median()*1.1, max_ylim*0.9, '{:.2f}'.format(corpus_Lennon['nb_words'].median()))"
   ]
  },
  {
   "cell_type": "code",
   "execution_count": 12,
   "metadata": {},
   "outputs": [
    {
     "data": {
      "text/plain": [
       "Text(201.3, 9.0, '183.00')"
      ]
     },
     "execution_count": 12,
     "metadata": {},
     "output_type": "execute_result"
    },
    {
     "data": {
      "image/png": "[encoded data removed]",
      "text/plain": [
       "<Figure size 432x288 with 1 Axes>"
      ]
     },
     "metadata": {
      "needs_background": "light"
     },
     "output_type": "display_data"
    }
   ],
   "source": [
    "# Corpus McCartney :\n",
    "\n",
    "plt.hist(corpus_McCartney[\"nb_words\"], density=False, bins=30, color=\"#FEBA51\")\n",
    "plt.ylabel('n')\n",
    "plt.ylim(0, 10)\n",
    "plt.xlabel('nb_words')\n",
    "plt.title('Corpus McCartney')\n",
    "# Ajout ligne médiane :\n",
    "min_ylim, max_ylim = plt.ylim(0,10) # Même échelle pour comparaison !\n",
    "plt.axvline(corpus_McCartney['nb_words'].median(), color='k', linestyle='dashed', linewidth=1)\n",
    "plt.text(corpus_McCartney['nb_words'].median()*1.1, max_ylim*0.9, '{:.2f}'.format(corpus_McCartney['nb_words'].median()))"
   ]
  },
  {
   "cell_type": "code",
   "execution_count": 13,
   "metadata": {},
   "outputs": [
    {
     "data": {
      "text/plain": [
       "Text(233.75000000000003, 9.0, '212.50')"
      ]
     },
     "execution_count": 13,
     "metadata": {},
     "output_type": "execute_result"
    },
    {
     "data": {
      "image/png": "[encoded data removed]",
      "text/plain": [
       "<Figure size 432x288 with 1 Axes>"
      ]
     },
     "metadata": {
      "needs_background": "light"
     },
     "output_type": "display_data"
    }
   ],
   "source": [
    "plt.hist(corpus_LMC[\"nb_words\"], density=False, bins=30, color=\"#C51112\")\n",
    "plt.ylim(0, 10)\n",
    "plt.ylabel('n')\n",
    "plt.xlabel('nb_words')\n",
    "plt.title('Corpus L-MC')\n",
    "# Ajout ligne médiane :\n",
    "min_ylim, max_ylim = plt.ylim(0,10) # Même échelle pour comparaison !\n",
    "plt.axvline(corpus_LMC['nb_words'].median(), color='k', linestyle='dashed', linewidth=1)\n",
    "plt.text(corpus_LMC['nb_words'].median()*1.1, max_ylim*0.9, '{:.2f}'.format(corpus_LMC['nb_words'].median()))\n",
    "\n"
   ]
  },
  {
   "cell_type": "code",
   "execution_count": 14,
   "metadata": {},
   "outputs": [
    {
     "data": {
      "text/html": [
       "<div>\n",
       "<style scoped>\n",
       "    .dataframe tbody tr th:only-of-type {\n",
       "        vertical-align: middle;\n",
       "    }\n",
       "\n",
       "    .dataframe tbody tr th {\n",
       "        vertical-align: top;\n",
       "    }\n",
       "\n",
       "    .dataframe thead th {\n",
       "        text-align: right;\n",
       "    }\n",
       "</style>\n",
       "<table border=\"1\" class=\"dataframe\">\n",
       "  <thead>\n",
       "    <tr style=\"text-align: right;\">\n",
       "      <th></th>\n",
       "      <th>nb_words</th>\n",
       "    </tr>\n",
       "  </thead>\n",
       "  <tbody>\n",
       "    <tr>\n",
       "      <th>count</th>\n",
       "      <td>60.000000</td>\n",
       "    </tr>\n",
       "    <tr>\n",
       "      <th>mean</th>\n",
       "      <td>201.700000</td>\n",
       "    </tr>\n",
       "    <tr>\n",
       "      <th>std</th>\n",
       "      <td>71.076302</td>\n",
       "    </tr>\n",
       "    <tr>\n",
       "      <th>min</th>\n",
       "      <td>43.000000</td>\n",
       "    </tr>\n",
       "    <tr>\n",
       "      <th>25%</th>\n",
       "      <td>157.750000</td>\n",
       "    </tr>\n",
       "    <tr>\n",
       "      <th>50%</th>\n",
       "      <td>207.000000</td>\n",
       "    </tr>\n",
       "    <tr>\n",
       "      <th>75%</th>\n",
       "      <td>238.250000</td>\n",
       "    </tr>\n",
       "    <tr>\n",
       "      <th>max</th>\n",
       "      <td>364.000000</td>\n",
       "    </tr>\n",
       "  </tbody>\n",
       "</table>\n",
       "</div>"
      ],
      "text/plain": [
       "         nb_words\n",
       "count   60.000000\n",
       "mean   201.700000\n",
       "std     71.076302\n",
       "min     43.000000\n",
       "25%    157.750000\n",
       "50%    207.000000\n",
       "75%    238.250000\n",
       "max    364.000000"
      ]
     },
     "metadata": {},
     "output_type": "display_data"
    },
    {
     "data": {
      "text/html": [
       "<div>\n",
       "<style scoped>\n",
       "    .dataframe tbody tr th:only-of-type {\n",
       "        vertical-align: middle;\n",
       "    }\n",
       "\n",
       "    .dataframe tbody tr th {\n",
       "        vertical-align: top;\n",
       "    }\n",
       "\n",
       "    .dataframe thead th {\n",
       "        text-align: right;\n",
       "    }\n",
       "</style>\n",
       "<table border=\"1\" class=\"dataframe\">\n",
       "  <thead>\n",
       "    <tr style=\"text-align: right;\">\n",
       "      <th></th>\n",
       "      <th>nb_words</th>\n",
       "    </tr>\n",
       "  </thead>\n",
       "  <tbody>\n",
       "    <tr>\n",
       "      <th>count</th>\n",
       "      <td>59.000000</td>\n",
       "    </tr>\n",
       "    <tr>\n",
       "      <th>mean</th>\n",
       "      <td>191.525424</td>\n",
       "    </tr>\n",
       "    <tr>\n",
       "      <th>std</th>\n",
       "      <td>87.414856</td>\n",
       "    </tr>\n",
       "    <tr>\n",
       "      <th>min</th>\n",
       "      <td>22.000000</td>\n",
       "    </tr>\n",
       "    <tr>\n",
       "      <th>25%</th>\n",
       "      <td>136.500000</td>\n",
       "    </tr>\n",
       "    <tr>\n",
       "      <th>50%</th>\n",
       "      <td>183.000000</td>\n",
       "    </tr>\n",
       "    <tr>\n",
       "      <th>75%</th>\n",
       "      <td>232.500000</td>\n",
       "    </tr>\n",
       "    <tr>\n",
       "      <th>max</th>\n",
       "      <td>445.000000</td>\n",
       "    </tr>\n",
       "  </tbody>\n",
       "</table>\n",
       "</div>"
      ],
      "text/plain": [
       "         nb_words\n",
       "count   59.000000\n",
       "mean   191.525424\n",
       "std     87.414856\n",
       "min     22.000000\n",
       "25%    136.500000\n",
       "50%    183.000000\n",
       "75%    232.500000\n",
       "max    445.000000"
      ]
     },
     "metadata": {},
     "output_type": "display_data"
    },
    {
     "data": {
      "text/html": [
       "<div>\n",
       "<style scoped>\n",
       "    .dataframe tbody tr th:only-of-type {\n",
       "        vertical-align: middle;\n",
       "    }\n",
       "\n",
       "    .dataframe tbody tr th {\n",
       "        vertical-align: top;\n",
       "    }\n",
       "\n",
       "    .dataframe thead th {\n",
       "        text-align: right;\n",
       "    }\n",
       "</style>\n",
       "<table border=\"1\" class=\"dataframe\">\n",
       "  <thead>\n",
       "    <tr style=\"text-align: right;\">\n",
       "      <th></th>\n",
       "      <th>nb_words</th>\n",
       "    </tr>\n",
       "  </thead>\n",
       "  <tbody>\n",
       "    <tr>\n",
       "      <th>count</th>\n",
       "      <td>60.000000</td>\n",
       "    </tr>\n",
       "    <tr>\n",
       "      <th>mean</th>\n",
       "      <td>211.283333</td>\n",
       "    </tr>\n",
       "    <tr>\n",
       "      <th>std</th>\n",
       "      <td>62.030089</td>\n",
       "    </tr>\n",
       "    <tr>\n",
       "      <th>min</th>\n",
       "      <td>90.000000</td>\n",
       "    </tr>\n",
       "    <tr>\n",
       "      <th>25%</th>\n",
       "      <td>174.250000</td>\n",
       "    </tr>\n",
       "    <tr>\n",
       "      <th>50%</th>\n",
       "      <td>212.500000</td>\n",
       "    </tr>\n",
       "    <tr>\n",
       "      <th>75%</th>\n",
       "      <td>248.500000</td>\n",
       "    </tr>\n",
       "    <tr>\n",
       "      <th>max</th>\n",
       "      <td>339.000000</td>\n",
       "    </tr>\n",
       "  </tbody>\n",
       "</table>\n",
       "</div>"
      ],
      "text/plain": [
       "         nb_words\n",
       "count   60.000000\n",
       "mean   211.283333\n",
       "std     62.030089\n",
       "min     90.000000\n",
       "25%    174.250000\n",
       "50%    212.500000\n",
       "75%    248.500000\n",
       "max    339.000000"
      ]
     },
     "metadata": {},
     "output_type": "display_data"
    }
   ],
   "source": [
    "# https://stackoverflow.com/questions/38783027/jupyter-notebook-display-two-pandas-tables-side-by-side\n",
    "\n",
    "from IPython.display import display, HTML\n",
    "\n",
    "CSS = \"\"\"\n",
    "div.cell:nth-child(45) .output {\n",
    "    flex-direction: row;\n",
    "}\n",
    "\"\"\"\n",
    "HTML('<style>{}</style>'.format(CSS))\n",
    "\n",
    "# 46 = indice de la cellule.\n",
    "\n",
    "display(corpus_Lennon.describe())\n",
    "display(corpus_McCartney.describe())\n",
    "display(corpus_LMC.describe())\n"
   ]
  },
  {
   "cell_type": "code",
   "execution_count": 15,
   "metadata": {},
   "outputs": [],
   "source": [
    "# Question : Est-ce que la moyenne est le meilleur indicateur ?"
   ]
  },
  {
   "cell_type": "code",
   "execution_count": 16,
   "metadata": {},
   "outputs": [
    {
     "data": {
      "text/html": [
       "<div>\n",
       "<style scoped>\n",
       "    .dataframe tbody tr th:only-of-type {\n",
       "        vertical-align: middle;\n",
       "    }\n",
       "\n",
       "    .dataframe tbody tr th {\n",
       "        vertical-align: top;\n",
       "    }\n",
       "\n",
       "    .dataframe thead th {\n",
       "        text-align: right;\n",
       "    }\n",
       "</style>\n",
       "<table border=\"1\" class=\"dataframe\">\n",
       "  <thead>\n",
       "    <tr style=\"text-align: right;\">\n",
       "      <th></th>\n",
       "      <th>index</th>\n",
       "      <th>Song</th>\n",
       "      <th>Songwriter(s)</th>\n",
       "      <th>nb_words</th>\n",
       "    </tr>\n",
       "  </thead>\n",
       "  <tbody>\n",
       "    <tr>\n",
       "      <th>0</th>\n",
       "      <td>0</td>\n",
       "      <td>\"A Day in the Life\"</td>\n",
       "      <td>Lennon-McCartney</td>\n",
       "      <td>226</td>\n",
       "    </tr>\n",
       "    <tr>\n",
       "      <th>1</th>\n",
       "      <td>1</td>\n",
       "      <td>\"A Hard Day's Night\"</td>\n",
       "      <td>Lennon-McCartney</td>\n",
       "      <td>228</td>\n",
       "    </tr>\n",
       "    <tr>\n",
       "      <th>2</th>\n",
       "      <td>2</td>\n",
       "      <td>\"Across the Universe\"</td>\n",
       "      <td>Lennon</td>\n",
       "      <td>250</td>\n",
       "    </tr>\n",
       "    <tr>\n",
       "      <th>3</th>\n",
       "      <td>3</td>\n",
       "      <td>\"All I've Got to Do\"</td>\n",
       "      <td>Lennon</td>\n",
       "      <td>212</td>\n",
       "    </tr>\n",
       "    <tr>\n",
       "      <th>4</th>\n",
       "      <td>4</td>\n",
       "      <td>\"All My Loving\"</td>\n",
       "      <td>McCartney</td>\n",
       "      <td>175</td>\n",
       "    </tr>\n",
       "    <tr>\n",
       "      <th>...</th>\n",
       "      <td>...</td>\n",
       "      <td>...</td>\n",
       "      <td>...</td>\n",
       "      <td>...</td>\n",
       "    </tr>\n",
       "    <tr>\n",
       "      <th>174</th>\n",
       "      <td>174</td>\n",
       "      <td>\"You Won't See Me\"</td>\n",
       "      <td>McCartney</td>\n",
       "      <td>243</td>\n",
       "    </tr>\n",
       "    <tr>\n",
       "      <th>175</th>\n",
       "      <td>175</td>\n",
       "      <td>\"You'll Be Mine\"</td>\n",
       "      <td>Lennon-McCartney</td>\n",
       "      <td>117</td>\n",
       "    </tr>\n",
       "    <tr>\n",
       "      <th>176</th>\n",
       "      <td>176</td>\n",
       "      <td>\"You're Going to Lose That Girl\"</td>\n",
       "      <td>Lennon</td>\n",
       "      <td>247</td>\n",
       "    </tr>\n",
       "    <tr>\n",
       "      <th>177</th>\n",
       "      <td>177</td>\n",
       "      <td>\"You've Got to Hide Your Love Away\"</td>\n",
       "      <td>Lennon</td>\n",
       "      <td>125</td>\n",
       "    </tr>\n",
       "    <tr>\n",
       "      <th>178</th>\n",
       "      <td>178</td>\n",
       "      <td>\"Your Mother Should Know\"</td>\n",
       "      <td>McCartney</td>\n",
       "      <td>206</td>\n",
       "    </tr>\n",
       "  </tbody>\n",
       "</table>\n",
       "<p>179 rows × 4 columns</p>\n",
       "</div>"
      ],
      "text/plain": [
       "     index                                 Song     Songwriter(s)  nb_words\n",
       "0        0                  \"A Day in the Life\"  Lennon-McCartney       226\n",
       "1        1                 \"A Hard Day's Night\"  Lennon-McCartney       228\n",
       "2        2                \"Across the Universe\"            Lennon       250\n",
       "3        3                 \"All I've Got to Do\"            Lennon       212\n",
       "4        4                      \"All My Loving\"         McCartney       175\n",
       "..     ...                                  ...               ...       ...\n",
       "174    174                   \"You Won't See Me\"         McCartney       243\n",
       "175    175                     \"You'll Be Mine\"  Lennon-McCartney       117\n",
       "176    176     \"You're Going to Lose That Girl\"            Lennon       247\n",
       "177    177  \"You've Got to Hide Your Love Away\"            Lennon       125\n",
       "178    178            \"Your Mother Should Know\"         McCartney       206\n",
       "\n",
       "[179 rows x 4 columns]"
      ]
     },
     "execution_count": 16,
     "metadata": {},
     "output_type": "execute_result"
    }
   ],
   "source": [
    "# Mise en place d'un index : \n",
    "\n",
    "count_by_song = count_by_song.reset_index()\n",
    "\n",
    " \n",
    "count_by_song"
   ]
  },
  {
   "cell_type": "code",
   "execution_count": 17,
   "metadata": {},
   "outputs": [
    {
     "data": {
      "text/plain": [
       "Text(0.5, 1.0, 'Corpus complet')"
      ]
     },
     "execution_count": 17,
     "metadata": {},
     "output_type": "execute_result"
    },
    {
     "data": {
      "image/png": "[encoded data removed]",
      "text/plain": [
       "<Figure size 432x288 with 1 Axes>"
      ]
     },
     "metadata": {
      "needs_background": "light"
     },
     "output_type": "display_data"
    }
   ],
   "source": [
    "# Scatterplot corpus complet :\n",
    "\n",
    "import seaborn as sns\n",
    "\n",
    "sns.regplot(x=count_by_song[\"index\"], y=count_by_song[\"nb_words\"], fit_reg=True).set_title(\"Corpus complet\")\n",
    "\n",
    "# NB : By default, a linear regression fit is plotted. It can be removed from graph by setting fit_reg=False."
   ]
  },
  {
   "cell_type": "code",
   "execution_count": 18,
   "metadata": {},
   "outputs": [],
   "source": [
    "# Interprétation ?\n",
    "# Pourquoi avoir laissé la régression linéaire ici ? Est-ce pertinent ?"
   ]
  },
  {
   "cell_type": "code",
   "execution_count": 19,
   "metadata": {},
   "outputs": [
    {
     "data": {
      "text/plain": [
       "Text(0.5, 1.0, 'Corpus Lennon')"
      ]
     },
     "execution_count": 19,
     "metadata": {},
     "output_type": "execute_result"
    },
    {
     "data": {
      "image/png": "[encoded data removed]",
      "text/plain": [
       "<Figure size 432x288 with 1 Axes>"
      ]
     },
     "metadata": {
      "needs_background": "light"
     },
     "output_type": "display_data"
    }
   ],
   "source": [
    "## Scatterplot corpus Lennon :\n",
    "\n",
    "corpus_Lennon = corpus_Lennon.reset_index()\n",
    "\n",
    "sns.regplot(x=corpus_Lennon[\"index\"], y=corpus_Lennon[\"nb_words\"], fit_reg=True).set_title(\"Corpus Lennon\")"
   ]
  },
  {
   "cell_type": "code",
   "execution_count": 20,
   "metadata": {},
   "outputs": [
    {
     "data": {
      "text/plain": [
       "Text(0.5, 1.0, 'Corpus McCartney')"
      ]
     },
     "execution_count": 20,
     "metadata": {},
     "output_type": "execute_result"
    },
    {
     "data": {
      "image/png": "[encoded data removed]",
      "text/plain": [
       "<Figure size 432x288 with 1 Axes>"
      ]
     },
     "metadata": {
      "needs_background": "light"
     },
     "output_type": "display_data"
    }
   ],
   "source": [
    "## Scatterplot corpus McCartney :\n",
    "\n",
    "corpus_McCartney = corpus_McCartney.reset_index()\n",
    "\n",
    "sns.regplot(x=corpus_McCartney[\"index\"], y=corpus_McCartney[\"nb_words\"], fit_reg=True).set_title(\"Corpus McCartney\")"
   ]
  },
  {
   "cell_type": "code",
   "execution_count": 21,
   "metadata": {},
   "outputs": [
    {
     "data": {
      "text/plain": [
       "Text(0.5, 1.0, 'Corpus LMC')"
      ]
     },
     "execution_count": 21,
     "metadata": {},
     "output_type": "execute_result"
    },
    {
     "data": {
      "image/png": "[encoded data removed]",
      "text/plain": [
       "<Figure size 432x288 with 1 Axes>"
      ]
     },
     "metadata": {
      "needs_background": "light"
     },
     "output_type": "display_data"
    }
   ],
   "source": [
    "## Scatterplot corpus Lennon-McCartney :\n",
    "\n",
    "corpus_LMC = corpus_LMC.reset_index()\n",
    "\n",
    "sns.regplot(x=corpus_LMC[\"index\"], y=corpus_LMC[\"nb_words\"], fit_reg=True).set_title(\"Corpus LMC\")\n"
   ]
  },
  {
   "cell_type": "code",
   "execution_count": 22,
   "metadata": {},
   "outputs": [],
   "source": [
    "# Retour réflexif : est-ce que ça a un sens réellement ? Sur quoi se fonde-t-on pour établir ces visualisations ?\n",
    "# Comment faire pour que ça en est ?\n",
    "\n",
    "## Pistes : \n",
    "\n",
    "### Approche diachronique ?\n",
    "### Calcul de la pente ?\n",
    "### Autre ?"
   ]
  },
  {
   "cell_type": "code",
   "execution_count": 23,
   "metadata": {},
   "outputs": [
    {
     "data": {
      "image/png": "[encoded data removed]",
      "text/plain": [
       "<Figure size 432x288 with 1 Axes>"
      ]
     },
     "metadata": {
      "needs_background": "light"
     },
     "output_type": "display_data"
    }
   ],
   "source": [
    "# Boxplot\n",
    "\n",
    "import seaborn as sns\n",
    "\n",
    "ax = sns.boxplot(x=\"Songwriter(s)\", y=\"nb_words\", data=count_by_song)"
   ]
  },
  {
   "cell_type": "code",
   "execution_count": 24,
   "metadata": {},
   "outputs": [],
   "source": [
    "# Sur les boxplots : Cf. Michael Galarnyk, https://towardsdatascience.com/understanding-boxplots-5e2df7bcbd51."
   ]
  },
  {
   "cell_type": "code",
   "execution_count": 25,
   "metadata": {},
   "outputs": [],
   "source": [
    "## Lecture & interprétation des résultats :\n",
    "\n",
    "\n"
   ]
  },
  {
   "cell_type": "markdown",
   "metadata": {},
   "source": [
    "Autres propositions pour enrichir les statistiques descriptives : \n",
    "    \n",
    "   - Analyse de la longueur des phrases et confrontation des différents corpus (ex : https://spacy.io/usage/linguistic-features#custom-tokenizer).\n",
    "   - Analyse de la richesse lexicale (ex : https://pypi.org/project/lexical-diversity/)."
   ]
  },
  {
   "cell_type": "markdown",
   "metadata": {},
   "source": [
    "# Analyse de l'utilisation des catégories gramaticals pour chaque chanteur"
   ]
  },
  {
   "cell_type": "code",
   "execution_count": 31,
   "metadata": {},
   "outputs": [
    {
     "data": {
      "image/png": "[encoded data removed]",
      "text/plain": [
       "<Figure size 2880x360 with 1 Axes>"
      ]
     },
     "metadata": {
      "needs_background": "light"
     },
     "output_type": "display_data"
    }
   ],
   "source": [
    "import seaborn as sns\n",
    "import numpy as np\n",
    "\n",
    "groupes_gramaticaux  = np.unique(corpus['pos'])\n",
    "\n",
    "corpus_Lennon = corpus.loc[(corpus['Songwriter(s)'] == \"Lennon\")]\n",
    "corpus_McCartney = corpus.loc[(corpus['Songwriter(s)'] == \"McCartney\")]\n",
    "corpus_LMC = corpus.loc[(corpus['Songwriter(s)'] == \"Lennon-McCartney\")]\n",
    "\n",
    "\n",
    "\n",
    "\n",
    "plt.figure(figsize=(40,5))\n",
    "sns.histplot(np.sort(corpus_Lennon['pos']), color = 'b', alpha = 0.7, label = 'Lennon')\n",
    "plt.title('Lennon', weight='bold', fontsize = 25)\n",
    "\n",
    "#plt.figure(figsize=(40,5))\n",
    "sns.histplot(np.sort(corpus_McCartney['pos']), color = 'r', alpha = 0.7, label = 'McCartney')\n",
    "plt.title('McCartney', weight='bold', fontsize = 25)\n",
    "\n",
    "#plt.figure(figsize=(40,5)\n",
    "sns.histplot(np.sort(corpus_LMC['pos']), color = 'g', alpha = 0.7, label = 'Lennon-McCartney')\n",
    "plt.title('LMC', weight='bold', fontsize = 25)\n",
    "_ = plt.legend()"
   ]
  },
  {
   "cell_type": "code",
   "execution_count": 17,
   "metadata": {},
   "outputs": [
    {
     "data": {
      "text/html": [
       "<div>\n",
       "<style scoped>\n",
       "    .dataframe tbody tr th:only-of-type {\n",
       "        vertical-align: middle;\n",
       "    }\n",
       "\n",
       "    .dataframe tbody tr th {\n",
       "        vertical-align: top;\n",
       "    }\n",
       "\n",
       "    .dataframe thead th {\n",
       "        text-align: right;\n",
       "    }\n",
       "</style>\n",
       "<table border=\"1\" class=\"dataframe\">\n",
       "  <thead>\n",
       "    <tr style=\"text-align: right;\">\n",
       "      <th></th>\n",
       "      <th>Song</th>\n",
       "      <th>Album Debut</th>\n",
       "      <th>Songwriter(s)</th>\n",
       "      <th>Lead Vocal(s)</th>\n",
       "      <th>Year</th>\n",
       "      <th>Lyrics</th>\n",
       "      <th>words</th>\n",
       "      <th>lemma</th>\n",
       "      <th>pos</th>\n",
       "      <th>3grams_pos</th>\n",
       "    </tr>\n",
       "  </thead>\n",
       "  <tbody>\n",
       "    <tr>\n",
       "      <th>5</th>\n",
       "      <td>\"Across the Universe\"</td>\n",
       "      <td>Let It Be</td>\n",
       "      <td>Lennon</td>\n",
       "      <td>Lennon</td>\n",
       "      <td>1968</td>\n",
       "      <td>Words are flowing out like endless rain into a...</td>\n",
       "      <td>endless</td>\n",
       "      <td>['endless']</td>\n",
       "      <td>['ADJ']</td>\n",
       "      <td>(['ADJ'], ['NOUN'], ['ADP'])</td>\n",
       "    </tr>\n",
       "    <tr>\n",
       "      <th>192</th>\n",
       "      <td>\"Across the Universe\"</td>\n",
       "      <td>Let It Be</td>\n",
       "      <td>Lennon</td>\n",
       "      <td>Lennon</td>\n",
       "      <td>1968</td>\n",
       "      <td>Words are flowing out like endless rain into a...</td>\n",
       "      <td>open</td>\n",
       "      <td>['open']</td>\n",
       "      <td>['ADJ']</td>\n",
       "      <td>(['ADJ'], ['NOUN'], ['VERB'])</td>\n",
       "    </tr>\n",
       "    <tr>\n",
       "      <th>354</th>\n",
       "      <td>\"All I've Got to Do\"</td>\n",
       "      <td>UK: With the Beatles\\n US: Meet the Beatles!</td>\n",
       "      <td>Lennon</td>\n",
       "      <td>Lennon</td>\n",
       "      <td>1963</td>\n",
       "      <td>Whenever I want you around yeh \\nAll I gotta d...</td>\n",
       "      <td>same</td>\n",
       "      <td>['same']</td>\n",
       "      <td>['ADJ']</td>\n",
       "      <td>(['ADJ'], ['VERB'], ['ADP'])</td>\n",
       "    </tr>\n",
       "    <tr>\n",
       "      <th>440</th>\n",
       "      <td>\"All I've Got to Do\"</td>\n",
       "      <td>UK: With the Beatles\\n US: Meet the Beatles!</td>\n",
       "      <td>Lennon</td>\n",
       "      <td>Lennon</td>\n",
       "      <td>1963</td>\n",
       "      <td>Whenever I want you around yeh \\nAll I gotta d...</td>\n",
       "      <td>same</td>\n",
       "      <td>['same']</td>\n",
       "      <td>['ADJ']</td>\n",
       "      <td>(['ADJ'], ['VERB'], ['ADP'])</td>\n",
       "    </tr>\n",
       "    <tr>\n",
       "      <th>495</th>\n",
       "      <td>\"All My Loving\"</td>\n",
       "      <td>UK: With the Beatles\\n US: Meet the Beatles!</td>\n",
       "      <td>McCartney</td>\n",
       "      <td>McCartney</td>\n",
       "      <td>1963</td>\n",
       "      <td>Close your eyes and I'll kiss you\\nTomorrow I'...</td>\n",
       "      <td>Close</td>\n",
       "      <td>['close']</td>\n",
       "      <td>['ADJ']</td>\n",
       "      <td>(['ADJ'], ['DET'], ['NOUN'])</td>\n",
       "    </tr>\n",
       "    <tr>\n",
       "      <th>...</th>\n",
       "      <td>...</td>\n",
       "      <td>...</td>\n",
       "      <td>...</td>\n",
       "      <td>...</td>\n",
       "      <td>...</td>\n",
       "      <td>...</td>\n",
       "      <td>...</td>\n",
       "      <td>...</td>\n",
       "      <td>...</td>\n",
       "      <td>...</td>\n",
       "    </tr>\n",
       "    <tr>\n",
       "      <th>40044</th>\n",
       "      <td>\"You'll Be Mine\"</td>\n",
       "      <td>Anthology 1</td>\n",
       "      <td>Lennon-McCartney</td>\n",
       "      <td>McCartney</td>\n",
       "      <td>1960</td>\n",
       "      <td>Well darling all the night\\nYou'll be mine and...</td>\n",
       "      <td>National</td>\n",
       "      <td>['national']</td>\n",
       "      <td>['ADJ']</td>\n",
       "      <td>(['ADJ'], ['PROPN'], ['PROPN'])</td>\n",
       "    </tr>\n",
       "    <tr>\n",
       "      <th>40402</th>\n",
       "      <td>\"You're Going to Lose That Girl\"</td>\n",
       "      <td>Help!</td>\n",
       "      <td>Lennon</td>\n",
       "      <td>Lennon</td>\n",
       "      <td>1965</td>\n",
       "      <td>You're going to lose that girl\\nYou're going t...</td>\n",
       "      <td>right</td>\n",
       "      <td>['right']</td>\n",
       "      <td>['ADJ']</td>\n",
       "      <td>(['ADJ'], ['PUNCT'], ['DET'])</td>\n",
       "    </tr>\n",
       "    <tr>\n",
       "      <th>40420</th>\n",
       "      <td>\"You're Going to Lose That Girl\"</td>\n",
       "      <td>Help!</td>\n",
       "      <td>Lennon</td>\n",
       "      <td>Lennon</td>\n",
       "      <td>1965</td>\n",
       "      <td>You're going to lose that girl\\nYou're going t...</td>\n",
       "      <td>right</td>\n",
       "      <td>['right']</td>\n",
       "      <td>['ADJ']</td>\n",
       "      <td>(['ADJ'], ['PUNCT'], ['CCONJ'])</td>\n",
       "    </tr>\n",
       "    <tr>\n",
       "      <th>40638</th>\n",
       "      <td>\"You've Got to Hide Your Love Away\"</td>\n",
       "      <td>Help!</td>\n",
       "      <td>Lennon</td>\n",
       "      <td>Lennon</td>\n",
       "      <td>1965</td>\n",
       "      <td>Here I stand head in hand\\nTurn my face to the...</td>\n",
       "      <td>small</td>\n",
       "      <td>['small']</td>\n",
       "      <td>['ADJ']</td>\n",
       "      <td>(['ADJ'], ['SPACE'], ['ADV'])</td>\n",
       "    </tr>\n",
       "    <tr>\n",
       "      <th>40725</th>\n",
       "      <td>\"You've Got to Hide Your Love Away\"</td>\n",
       "      <td>Help!</td>\n",
       "      <td>Lennon</td>\n",
       "      <td>Lennon</td>\n",
       "      <td>1965</td>\n",
       "      <td>Here I stand head in hand\\nTurn my face to the...</td>\n",
       "      <td>round</td>\n",
       "      <td>['round']</td>\n",
       "      <td>['ADJ']</td>\n",
       "      <td>(['ADJ'], ['DET'], ['PRON'])</td>\n",
       "    </tr>\n",
       "  </tbody>\n",
       "</table>\n",
       "<p>1322 rows × 10 columns</p>\n",
       "</div>"
      ],
      "text/plain": [
       "                                      Song  \\\n",
       "5                    \"Across the Universe\"   \n",
       "192                  \"Across the Universe\"   \n",
       "354                   \"All I've Got to Do\"   \n",
       "440                   \"All I've Got to Do\"   \n",
       "495                        \"All My Loving\"   \n",
       "...                                    ...   \n",
       "40044                     \"You'll Be Mine\"   \n",
       "40402     \"You're Going to Lose That Girl\"   \n",
       "40420     \"You're Going to Lose That Girl\"   \n",
       "40638  \"You've Got to Hide Your Love Away\"   \n",
       "40725  \"You've Got to Hide Your Love Away\"   \n",
       "\n",
       "                                        Album Debut     Songwriter(s)  \\\n",
       "5                                         Let It Be            Lennon   \n",
       "192                                       Let It Be            Lennon   \n",
       "354    UK: With the Beatles\\n US: Meet the Beatles!            Lennon   \n",
       "440    UK: With the Beatles\\n US: Meet the Beatles!            Lennon   \n",
       "495    UK: With the Beatles\\n US: Meet the Beatles!         McCartney   \n",
       "...                                             ...               ...   \n",
       "40044                                   Anthology 1  Lennon-McCartney   \n",
       "40402                                         Help!            Lennon   \n",
       "40420                                         Help!            Lennon   \n",
       "40638                                         Help!            Lennon   \n",
       "40725                                         Help!            Lennon   \n",
       "\n",
       "      Lead Vocal(s)  Year                                             Lyrics  \\\n",
       "5            Lennon  1968  Words are flowing out like endless rain into a...   \n",
       "192          Lennon  1968  Words are flowing out like endless rain into a...   \n",
       "354          Lennon  1963  Whenever I want you around yeh \\nAll I gotta d...   \n",
       "440          Lennon  1963  Whenever I want you around yeh \\nAll I gotta d...   \n",
       "495       McCartney  1963  Close your eyes and I'll kiss you\\nTomorrow I'...   \n",
       "...             ...   ...                                                ...   \n",
       "40044     McCartney  1960  Well darling all the night\\nYou'll be mine and...   \n",
       "40402        Lennon  1965  You're going to lose that girl\\nYou're going t...   \n",
       "40420        Lennon  1965  You're going to lose that girl\\nYou're going t...   \n",
       "40638        Lennon  1965  Here I stand head in hand\\nTurn my face to the...   \n",
       "40725        Lennon  1965  Here I stand head in hand\\nTurn my face to the...   \n",
       "\n",
       "          words         lemma      pos                       3grams_pos  \n",
       "5       endless   ['endless']  ['ADJ']     (['ADJ'], ['NOUN'], ['ADP'])  \n",
       "192        open      ['open']  ['ADJ']    (['ADJ'], ['NOUN'], ['VERB'])  \n",
       "354        same      ['same']  ['ADJ']     (['ADJ'], ['VERB'], ['ADP'])  \n",
       "440        same      ['same']  ['ADJ']     (['ADJ'], ['VERB'], ['ADP'])  \n",
       "495       Close     ['close']  ['ADJ']     (['ADJ'], ['DET'], ['NOUN'])  \n",
       "...         ...           ...      ...                              ...  \n",
       "40044  National  ['national']  ['ADJ']  (['ADJ'], ['PROPN'], ['PROPN'])  \n",
       "40402     right     ['right']  ['ADJ']    (['ADJ'], ['PUNCT'], ['DET'])  \n",
       "40420     right     ['right']  ['ADJ']  (['ADJ'], ['PUNCT'], ['CCONJ'])  \n",
       "40638     small     ['small']  ['ADJ']    (['ADJ'], ['SPACE'], ['ADV'])  \n",
       "40725     round     ['round']  ['ADJ']     (['ADJ'], ['DET'], ['PRON'])  \n",
       "\n",
       "[1322 rows x 10 columns]"
      ]
     },
     "execution_count": 17,
     "metadata": {},
     "output_type": "execute_result"
    }
   ],
   "source": [
    "corpus[corpus['pos']==groupes_gramaticaux[0]]"
   ]
  },
  {
   "cell_type": "code",
   "execution_count": null,
   "metadata": {},
   "outputs": [],
   "source": [
    "corpus_Lennon = count_by_song.loc[(count_by_song['Songwriter(s)'] == \"Lennon\")]\n"
   ]
  }
 ],
 "metadata": {
  "hide_input": false,
  "kernelspec": {
   "display_name": "Python 3",
   "language": "python",
   "name": "python3"
  },
  "language_info": {
   "codemirror_mode": {
    "name": "ipython",
    "version": 3
   },
   "file_extension": ".py",
   "mimetype": "text/x-python",
   "name": "python",
   "nbconvert_exporter": "python",
   "pygments_lexer": "ipython3",
   "version": "3.7.5"
  },
  "latex_envs": {
   "LaTeX_envs_menu_present": true,
   "autoclose": true,
   "autocomplete": true,
   "bibliofile": "biblio.bib",
   "cite_by": "apalike",
   "current_citInitial": 1,
   "eqLabelWithNumbers": true,
   "eqNumInitial": 1,
   "hotkeys": {
    "equation": "Ctrl-E",
    "itemize": "Ctrl-I"
   },
   "labels_anchors": false,
   "latex_user_defs": false,
   "report_style_numbering": false,
   "user_envs_cfg": false
  },
  "toc": {
   "base_numbering": 1,
   "nav_menu": {},
   "number_sections": true,
   "sideBar": true,
   "skip_h1_title": false,
   "title_cell": "Table of Contents",
   "title_sidebar": "Contents",
   "toc_cell": false,
   "toc_position": {},
   "toc_section_display": true,
   "toc_window_display": false
  },
  "varInspector": {
   "cols": {
    "lenName": 16,
    "lenType": 16,
    "lenVar": 40
   },
   "kernels_config": {
    "python": {
     "delete_cmd_postfix": "",
     "delete_cmd_prefix": "del ",
     "library": "var_list.py",
     "varRefreshCmd": "print(var_dic_list())"
    },
    "r": {
     "delete_cmd_postfix": ") ",
     "delete_cmd_prefix": "rm(",
     "library": "var_list.r",
     "varRefreshCmd": "cat(var_dic_list()) "
    }
   },
   "types_to_exclude": [
    "module",
    "function",
    "builtin_function_or_method",
    "instance",
    "_Feature"
   ],
   "window_display": false
  }
 },
 "nbformat": 4,
 "nbformat_minor": 4
}
